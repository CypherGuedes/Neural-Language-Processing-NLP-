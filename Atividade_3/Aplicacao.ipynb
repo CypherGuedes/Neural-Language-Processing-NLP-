{
 "cells": [
  {
   "cell_type": "markdown",
   "id": "1e374544",
   "metadata": {},
   "source": [
    "# Notebook Atualizado\n",
    "\n",
    "Este notebook realiza processamento, treinamento e avaliação de modelos usando os arquivos `classic4.csv` e `Industry Sector.csv`. Os resultados são comparados para os dois conjuntos de dados."
   ]
  },
  {
   "cell_type": "code",
   "execution_count": null,
   "id": "913d96eb",
   "metadata": {},
   "outputs": [],
   "source": [
    "\n",
    "import pandas as pd\n",
    "from sklearn.feature_extraction.text import CountVectorizer, TfidfTransformer\n",
    "from sklearn.metrics import classification_report\n",
    "from sklearn.model_selection import train_test_split\n",
    "from sklearn.naive_bayes import MultinomialNB\n",
    "from sklearn.linear_model import LogisticRegression\n",
    "from sklearn.ensemble import RandomForestClassifier\n"
   ]
  },
  {
   "cell_type": "code",
   "execution_count": null,
   "id": "314c4477",
   "metadata": {},
   "outputs": [],
   "source": [
    "\n",
    "def process_and_train(dataset_path, model, model_name):\n",
    "    print(f\"Processando o arquivo: {dataset_path}\")\n",
    "    df = pd.read_csv(dataset_path)\n",
    "    \n",
    "    # Dividir os dados em treino e teste\n",
    "    x_train, x_test, y_train, y_test = train_test_split(\n",
    "        df['text'], df['class'], test_size=0.2, stratify=df['class'], random_state=42\n",
    "    )\n",
    "    \n",
    "    # Vetorização e TF-IDF\n",
    "    vectorizer = CountVectorizer()\n",
    "    x_train_vec = vectorizer.fit_transform(x_train)\n",
    "    x_test_vec = vectorizer.transform(x_test)\n",
    "\n",
    "    tfidf = TfidfTransformer()\n",
    "    x_train_tfidf = tfidf.fit_transform(x_train_vec)\n",
    "    x_test_tfidf = tfidf.transform(x_test_vec)\n",
    "    \n",
    "    # Treinar o modelo\n",
    "    model.fit(x_train_tfidf, y_train)\n",
    "    \n",
    "    # Fazer previsões e avaliar\n",
    "    y_pred = model.predict(x_test_tfidf)\n",
    "    print(f\"Resultados para o modelo {model_name} e arquivo {dataset_path}:\")\n",
    "    print(classification_report(y_test, y_pred))\n"
   ]
  },
  {
   "cell_type": "code",
   "execution_count": null,
   "id": "4b4292b3",
   "metadata": {},
   "outputs": [],
   "source": [
    "\n",
    "# Executar para Naive Bayes\n",
    "nb_model = MultinomialNB()\n",
    "process_and_train(\"C:/Users/tagsa/Downloads/classic4.csv\", nb_model, \"Naive Bayes\")\n",
    "process_and_train(\"C:/Users/tagsa/Downloads/Industry Sector.csv\", nb_model, \"Naive Bayes\")\n"
   ]
  },
  {
   "cell_type": "code",
   "execution_count": null,
   "id": "e7769fb3",
   "metadata": {},
   "outputs": [],
   "source": [
    "\n",
    "# Executar para Logistic Regression\n",
    "lr_model = LogisticRegression(max_iter=200, solver='liblinear')\n",
    "process_and_train(\"C:/Users/tagsa/Downloads/classic4.csv\", lr_model, \"Logistic Regression\")\n",
    "process_and_train(\"C:/Users/tagsa/Downloads/Industry Sector.csv\", lr_model, \"Logistic Regression\")\n"
   ]
  },
  {
   "cell_type": "code",
   "execution_count": null,
   "id": "cdb1a4d4",
   "metadata": {},
   "outputs": [],
   "source": [
    "\n",
    "# Executar para Random Forest\n",
    "rf_model = RandomForestClassifier(n_estimators=100, random_state=42)\n",
    "process_and_train(\"C:/Users/tagsa/Downloads/classic4.csv\", rf_model, \"Random Forest\")\n",
    "process_and_train(\"C:/Users/tagsa/Downloads/Industry Sector.csv\", rf_model, \"Random Forest\")\n"
   ]
  }
 ],
 "metadata": {},
 "nbformat": 4,
 "nbformat_minor": 5
}
