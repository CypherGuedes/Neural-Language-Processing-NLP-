{
 "cells": [
  {
   "cell_type": "code",
   "execution_count": 1,
   "id": "b62c35d6-015c-43e5-8931-239933209e0d",
   "metadata": {},
   "outputs": [],
   "source": [
    "# Aplicação completa:"
   ]
  },
  {
   "cell_type": "code",
   "execution_count": 2,
   "id": "5909099d-9d1a-4ffc-88e1-01ea4945a8a3",
   "metadata": {},
   "outputs": [],
   "source": [
    "# Importações"
   ]
  },
  {
   "cell_type": "code",
   "execution_count": 5,
   "id": "4e3b097d-406c-40e3-8229-60d04c18b207",
   "metadata": {},
   "outputs": [],
   "source": [
    "import os\n",
    "import json\n",
    "import sys\n",
    "from tqdm import tqdm"
   ]
  },
  {
   "cell_type": "code",
   "execution_count": 6,
   "id": "7ada9bfe-d3ac-46f2-b6c7-6eed233a22e1",
   "metadata": {},
   "outputs": [],
   "source": [
    "# Define o caminho para a pasta 'corpus'"
   ]
  },
  {
   "cell_type": "code",
   "execution_count": 9,
   "id": "f083fac2-e588-4172-83d3-e250fe61f48b",
   "metadata": {},
   "outputs": [],
   "source": [
    "pasta_corpus = r'C:\\Users\\tagsa\\Downloads\\corpus'"
   ]
  },
  {
   "cell_type": "code",
   "execution_count": 11,
   "id": "4618c473-ac60-4e46-9f4c-8e75cf900d79",
   "metadata": {},
   "outputs": [],
   "source": [
    "# Função para carregar e verificar os textos dos arquivos JSON"
   ]
  },
  {
   "cell_type": "code",
   "execution_count": 13,
   "id": "2e4a6584-0cd7-40fe-ae4f-6328ae041983",
   "metadata": {},
   "outputs": [],
   "source": [
    "def carregar_textos_json(pasta):\n",
    "    textos = []\n",
    "    arquivos_validos = 0\n",
    "    textos_encontrados = 0\n",
    "\n",
    "    if not os.path.exists(pasta):\n",
    "        print(f\"Pasta não encontrada: {pasta}\")\n",
    "        return '', [], 0, 0\n",
    "\n",
    "    arquivos = [arq for arq in os.listdir(pasta) if arq.endswith('.json')]\n",
    "    print(f\"Número de arquivos JSON encontrados: {len(arquivos)}\")\n",
    "\n",
    "    for arquivo in tqdm(arquivos, desc=\"Carregando arquivos JSON\", unit=\"arquivo\"):\n",
    "        caminho = os.path.join(pasta, arquivo)\n",
    "        try:\n",
    "            with open(caminho, \"r\", encoding=\"utf-8\") as f:\n",
    "                dados = json.load(f)\n",
    "                arquivos_validos += 1\n",
    "\n",
    "                if isinstance(dados, list):\n",
    "                    textos.extend(item.get('text', '') for item in dados if item.get('text'))\n",
    "                elif isinstance(dados, dict):\n",
    "                    texto = dados.get('text', '')\n",
    "                    if texto:\n",
    "                        textos.append(texto)\n",
    "\n",
    "                textos_encontrados += len(textos)\n",
    "\n",
    "        except json.JSONDecodeError:\n",
    "            print(f\"Erro ao ler o arquivo: {arquivo}\")\n",
    "\n",
    "    corpus = ' '.join(textos)\n",
    "    return corpus, textos, arquivos_validos, textos_encontrados"
   ]
  },
  {
   "cell_type": "code",
   "execution_count": 15,
   "id": "2ea85171-9571-415b-bff5-4bfe3b92d2e0",
   "metadata": {},
   "outputs": [],
   "source": [
    "# Carrega o corpus e os textos"
   ]
  },
  {
   "cell_type": "code",
   "execution_count": 17,
   "id": "ab6d9dc9-40b5-4c63-8eef-7f650bd93cf3",
   "metadata": {},
   "outputs": [
    {
     "name": "stdout",
     "output_type": "stream",
     "text": [
      "Número de arquivos JSON encontrados: 10000\n"
     ]
    },
    {
     "name": "stderr",
     "output_type": "stream",
     "text": [
      "Carregando arquivos JSON: 100%|███████████████████████████████████████████| 10000/10000 [00:02<00:00, 4797.42arquivo/s]\n"
     ]
    }
   ],
   "source": [
    "corpus, textos, arquivos_validos, textos_encontrados = carregar_textos_json(pasta_corpus)"
   ]
  },
  {
   "cell_type": "code",
   "execution_count": 18,
   "id": "29416c3f-65f3-405e-ab9c-640b1110fcc8",
   "metadata": {},
   "outputs": [],
   "source": [
    "# Exibe resultados"
   ]
  },
  {
   "cell_type": "code",
   "execution_count": 19,
   "id": "24a868b0-7dde-41f7-b8f1-dca323123844",
   "metadata": {},
   "outputs": [
    {
     "name": "stdout",
     "output_type": "stream",
     "text": [
      "Número de arquivos JSON válidos lidos: 10000\n",
      "Corpus carregado com 71033256 caracteres.\n",
      "Número de textos individuais: 49977754\n"
     ]
    }
   ],
   "source": [
    "print(f\"Número de arquivos JSON válidos lidos: {arquivos_validos}\")\n",
    "print(f\"Corpus carregado com {len(corpus)} caracteres.\")\n",
    "print(f\"Número de textos individuais: {textos_encontrados}\")"
   ]
  },
  {
   "cell_type": "code",
   "execution_count": 23,
   "id": "8aae348f-4a2d-44d2-93d8-30c9a8d5d9f5",
   "metadata": {},
   "outputs": [],
   "source": [
    "# Adiciona o caminho do diretório onde está o bpe_tokenizer.py"
   ]
  },
  {
   "cell_type": "code",
   "execution_count": 25,
   "id": "dfd6a4da-b9a5-456c-9638-4e7d1e9efffc",
   "metadata": {},
   "outputs": [],
   "source": [
    "sys.path.append(r'C:\\Users\\tagsa\\Downloads')"
   ]
  },
  {
   "cell_type": "code",
   "execution_count": 27,
   "id": "8efac65e-4106-4fe0-b6df-f70af7061cce",
   "metadata": {},
   "outputs": [],
   "source": [
    "# Define o tamanho do vocabulário e o número de merges"
   ]
  },
  {
   "cell_type": "code",
   "execution_count": 29,
   "id": "ec83818c-f1bc-49b3-9e60-919297583117",
   "metadata": {},
   "outputs": [],
   "source": [
    "vocab_size = 276\n",
    "num_merges = vocab_size - 256"
   ]
  },
  {
   "cell_type": "code",
   "execution_count": 31,
   "id": "b2541b57-985c-454b-8b29-9eb7486e35e5",
   "metadata": {},
   "outputs": [],
   "source": [
    "# Importa o tokenizador BPE"
   ]
  },
  {
   "cell_type": "code",
   "execution_count": 33,
   "id": "e9309378-3b07-4a03-96a2-ce5bd3212ac7",
   "metadata": {},
   "outputs": [],
   "source": [
    "from bpe_tokenizer import BPE_Tokenizer"
   ]
  },
  {
   "cell_type": "code",
   "execution_count": 35,
   "id": "1c3c008c-053a-4ed9-abbf-e0fc6d0eed41",
   "metadata": {},
   "outputs": [],
   "source": [
    "# Instancia o tokenizador e faz o treinamento"
   ]
  },
  {
   "cell_type": "code",
   "execution_count": 37,
   "id": "df0faaa3-c705-466c-8e4c-4f470662e391",
   "metadata": {},
   "outputs": [
    {
     "name": "stdout",
     "output_type": "stream",
     "text": [
      "Início do treinamento...\n"
     ]
    },
    {
     "name": "stderr",
     "output_type": "stream",
     "text": [
      "Treinamento do tokenizador: 100%|████████████████████████████████████████████████| 20/20 [18:09<00:00, 54.49s/iteração]\n"
     ]
    },
    {
     "name": "stdout",
     "output_type": "stream",
     "text": [
      "Treinamento do tokenizador BPE concluído!\n"
     ]
    }
   ],
   "source": [
    "print(\"Início do treinamento...\")\n",
    "tokenizer = BPE_Tokenizer()\n",
    "tokenizer.train(corpus, vocab_size)"
   ]
  },
  {
   "cell_type": "code",
   "execution_count": 38,
   "id": "ab2afe9e-a198-4f31-ab05-3c89322bf7c1",
   "metadata": {},
   "outputs": [],
   "source": [
    "# Lista inicial de tokens codificados"
   ]
  },
  {
   "cell_type": "code",
   "execution_count": 39,
   "id": "aa9ee353-b9e5-474e-a2a4-8d0c7a85ad5c",
   "metadata": {},
   "outputs": [
    {
     "name": "stdout",
     "output_type": "stream",
     "text": [
      "Listando tokens.\n"
     ]
    }
   ],
   "source": [
    "print(\"Listando tokens.\")\n",
    "tokens = tokenizer.encode(corpus)\n",
    "ids = list(tokens)  # Converte para lista de IDs"
   ]
  },
  {
   "cell_type": "code",
   "execution_count": 42,
   "id": "2a639965-671b-48f2-9ef0-4dd59e63cade",
   "metadata": {},
   "outputs": [],
   "source": [
    "# Dicionário para armazenar os merges realizados"
   ]
  },
  {
   "cell_type": "code",
   "execution_count": 43,
   "id": "31223d0e-c3c3-4c4e-bc9b-7bfd211b5d68",
   "metadata": {},
   "outputs": [],
   "source": [
    "merges = {}"
   ]
  },
  {
   "cell_type": "code",
   "execution_count": 44,
   "id": "fef42b72-a88b-4e8d-97ed-33bc7d05fad2",
   "metadata": {},
   "outputs": [],
   "source": [
    "# Função auxiliar para decodificar um par de tokens"
   ]
  },
  {
   "cell_type": "code",
   "execution_count": 45,
   "id": "d2dd2f08-931f-4f90-a82e-25760aa0657e",
   "metadata": {},
   "outputs": [],
   "source": [
    "def decodificar_par(pair, tokenizer):\n",
    "    # Decodifica cada token individualmente\n",
    "    token_a = tokenizer.decode([pair[0]])\n",
    "    token_b = tokenizer.decode([pair[1]])\n",
    "    return token_a, token_b"
   ]
  },
  {
   "cell_type": "code",
   "execution_count": 46,
   "id": "9d71a62e-9baf-4567-b3c6-373e1a8d0035",
   "metadata": {},
   "outputs": [],
   "source": [
    "# Realiza os merges e exibe a frequência de cada novo token criado"
   ]
  },
  {
   "cell_type": "code",
   "execution_count": 47,
   "id": "7728e828-a4d6-435e-b1a7-bb2edc72264d",
   "metadata": {},
   "outputs": [
    {
     "name": "stdout",
     "output_type": "stream",
     "text": [
      "Mesclando (195, 163) (�, �) em um novo token 256 com frequência 378704\n",
      "Mesclando (97, 100) (a, d) em um novo token 257 com frequência 325641\n",
      "Mesclando (262, 116) (en, t) em um novo token 258 com frequência 322247\n",
      "Mesclando (256, 256) (o , o ) em um novo token 259 com frequência 320272\n",
      "Mesclando (195, 167) (�, �) em um novo token 260 com frequência 309541\n",
      "Mesclando (114, 105) (r, i) em um novo token 261 com frequência 308050\n",
      "Mesclando (99, 105) (c, i) em um novo token 262 com frequência 304864\n",
      "Mesclando (97, 260) (a, , ) em um novo token 263 com frequência 294469\n",
      "Mesclando (114, 101) (r, e) em um novo token 264 com frequência 294374\n",
      "Mesclando (113, 117) (q, u) em um novo token 265 com frequência 290190\n",
      "Mesclando (115, 116) (s, t) em um novo token 266 com frequência 286657\n",
      "Mesclando (100, 257) (d, a ) em um novo token 267 com frequência 285359\n",
      "Mesclando (97, 116) (a, t) em um novo token 268 com frequência 262392\n",
      "Mesclando (195, 169) (�, �) em um novo token 269 com frequência 257792\n",
      "Mesclando (111, 110) (o, n) em um novo token 270 com frequência 246605\n",
      "Mesclando (101, 108) (e, l) em um novo token 271 com frequência 246232\n",
      "Mesclando (101, 259) (e, s ) em um novo token 272 com frequência 245977\n",
      "Mesclando (101, 263) (e, m ) em um novo token 273 com frequência 232590\n",
      "Mesclando (105, 99) (i, c) em um novo token 274 com frequência 232507\n",
      "Mesclando (97, 115) (a, s) em um novo token 275 com frequência 207546\n"
     ]
    }
   ],
   "source": [
    "for i in range(num_merges):\n",
    "    # Obtém as estatísticas dos pares mais frequentes\n",
    "    stats = tokenizer.get_stats(ids)\n",
    "    pair = max(stats, key=stats.get)  # Par mais frequente\n",
    "    freq = stats[pair]  # Frequência do par\n",
    "    idx = 256 + i  # Índice do novo token\n",
    "\n",
    "    # Decodifica os tokens do par para exibir seus caracteres\n",
    "    token_a, token_b = decodificar_par(pair, tokenizer)\n",
    "\n",
    "    # Exibe o par sendo mesclado, o novo token, sua frequência e os caracteres\n",
    "    print(f\"Mesclando {pair} ({token_a}, {token_b}) em um novo token {idx} com frequência {freq}\")\n",
    "\n",
    "    # Realiza o merge e armazena no dicionário de merges\n",
    "    ids = tokenizer.merge(ids, pair, idx)\n",
    "    merges[pair] = (idx, freq)  # Armazena o índice e a frequência"
   ]
  },
  {
   "cell_type": "code",
   "execution_count": 54,
   "id": "81f5c747-f821-4bae-aae9-8b613ee5585e",
   "metadata": {},
   "outputs": [],
   "source": [
    "# Exibe o comprimento dos tokens e IDs após o processo"
   ]
  },
  {
   "cell_type": "code",
   "execution_count": 55,
   "id": "97f87d0f-aa54-42b6-ac0a-5e3011405bae",
   "metadata": {},
   "outputs": [
    {
     "name": "stdout",
     "output_type": "stream",
     "text": [
      "\n",
      "Comprimento final dos tokens: 57540923\n",
      "Comprimento final dos IDs: 51890330\n"
     ]
    }
   ],
   "source": [
    "print(\"\\nComprimento final dos tokens:\", len(tokens))\n",
    "print(\"Comprimento final dos IDs:\", len(ids))"
   ]
  },
  {
   "cell_type": "code",
   "execution_count": 56,
   "id": "7eb1f2ec-902a-4e92-aa82-128ed0c7231c",
   "metadata": {},
   "outputs": [],
   "source": [
    "# Calcula e exibe a taxa de compressão"
   ]
  },
  {
   "cell_type": "code",
   "execution_count": 57,
   "id": "3b374094-0096-4ea8-8f36-8191202d4301",
   "metadata": {},
   "outputs": [
    {
     "name": "stdout",
     "output_type": "stream",
     "text": [
      "Taxa de compressão: 1.11X\n"
     ]
    }
   ],
   "source": [
    "taxa_compressao = len(tokens) / len(ids)\n",
    "print(f\"Taxa de compressão: {taxa_compressao:.2f}X\")"
   ]
  }
 ],
 "metadata": {
  "kernelspec": {
   "display_name": "Python 3 (ipykernel)",
   "language": "python",
   "name": "python3"
  },
  "language_info": {
   "codemirror_mode": {
    "name": "ipython",
    "version": 3
   },
   "file_extension": ".py",
   "mimetype": "text/x-python",
   "name": "python",
   "nbconvert_exporter": "python",
   "pygments_lexer": "ipython3",
   "version": "3.12.4"
  }
 },
 "nbformat": 4,
 "nbformat_minor": 5
}
