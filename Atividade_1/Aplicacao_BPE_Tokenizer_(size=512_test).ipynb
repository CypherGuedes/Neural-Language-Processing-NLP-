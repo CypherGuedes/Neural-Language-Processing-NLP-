{
 "cells": [
  {
   "cell_type": "code",
   "execution_count": 1,
   "id": "b62c35d6-015c-43e5-8931-239933209e0d",
   "metadata": {},
   "outputs": [],
   "source": [
    "# Aplicação completa: Esta aplicação faz uso do tokenizador BPE (Byte Pair Encoding)."
   ]
  },
  {
   "cell_type": "code",
   "execution_count": 2,
   "id": "5909099d-9d1a-4ffc-88e1-01ea4945a8a3",
   "metadata": {},
   "outputs": [],
   "source": [
    "# Importa as bibliotecas necessárias para a aplicação."
   ]
  },
  {
   "cell_type": "code",
   "execution_count": 3,
   "id": "4e3b097d-406c-40e3-8229-60d04c18b207",
   "metadata": {},
   "outputs": [],
   "source": [
    "import os  # Para manipulação de diretórios e arquivos.\n",
    "import json  # Para carregar e manipular dados em formato JSON.\n",
    "from tqdm import tqdm  # Exibe uma barra de progresso durante operações demoradas.\n",
    "import sys  # Permite manipular parâmetros e caminhos do sistema.\n",
    "from collections import defaultdict  # Cria dicionários com valor padrão automático.\n",
    "\n",
    "sys.path.append(r\"C:\\Users\\tagsa\\Downloads\")  # Adiciona ao sys.path o diretório onde o módulo BPE_Tokenizer pode estar localizado.\n",
    "from bpe_tokenizer_otimizado_e_comentado import BPE_Tokenizer  # Importa o tokenizador BPE do módulo localizado no caminho adicionado."
   ]
  },
  {
   "cell_type": "code",
   "execution_count": 7,
   "id": "b22811f7-643c-44b7-91a5-bd256bb29573",
   "metadata": {},
   "outputs": [],
   "source": [
    "# Inicializa o tokenizador BPE."
   ]
  },
  {
   "cell_type": "code",
   "execution_count": 9,
   "id": "05a4f230-88f5-4e2a-a5da-6cba210f769e",
   "metadata": {},
   "outputs": [],
   "source": [
    "tokenizer = BPE_Tokenizer()"
   ]
  },
  {
   "cell_type": "code",
   "execution_count": 11,
   "id": "7ada9bfe-d3ac-46f2-b6c7-6eed233a22e1",
   "metadata": {},
   "outputs": [],
   "source": [
    "# Define o caminho para a pasta 'corpus', que deve conter os arquivos a serem processados (esta aplicaçao são arquivos JSON)."
   ]
  },
  {
   "cell_type": "code",
   "execution_count": 13,
   "id": "f083fac2-e588-4172-83d3-e250fe61f48b",
   "metadata": {},
   "outputs": [],
   "source": [
    "pasta_corpus = r'C:\\Users\\tagsa\\Downloads\\corpus'  # O 'r' antes da string indica uma raw string, preservando as barras invertidas."
   ]
  },
  {
   "cell_type": "code",
   "execution_count": 15,
   "id": "2e4a6584-0cd7-40fe-ae4f-6328ae041983",
   "metadata": {},
   "outputs": [],
   "source": [
    "def carregar_textos_json(pasta):\n",
    "    \"\"\"\n",
    "    Carrega e combina todos os textos dos arquivos JSON em uma única string.\n",
    "\n",
    "    Parâmetros:\n",
    "    pasta : str\n",
    "        Caminho para a pasta onde os arquivos JSON estão localizados.\n",
    "\n",
    "    Retorna:\n",
    "    tuple\n",
    "        - String com o corpus combinado.\n",
    "        - Número de arquivos JSON válidos lidos.\n",
    "        - Contador de textos individuais encontrados.\n",
    "    \"\"\"\n",
    "    corpus = []  # Lista para armazenar o conteúdo dos arquivos.\n",
    "    arquivos_validos = 0  # Contador de arquivos JSON válidos.\n",
    "    textos_encontrados = 0  # Contador de textos individuais.\n",
    "\n",
    "    if not os.path.exists(pasta):\n",
    "        print(f\"Pasta não encontrada: {pasta}\")\n",
    "        return \"\", 0, 0  # Retorna valores padrão no caso de erro.\n",
    "\n",
    "    # Lista os arquivos JSON encontrados na pasta.\n",
    "    arquivos = [arq for arq in os.listdir(pasta) if arq.endswith(\".json\")]\n",
    "    print(f\"Número de arquivos JSON encontrados: {len(arquivos)}\")\n",
    "\n",
    "    # Itera sobre os arquivos e processa cada um.\n",
    "    for arquivo in tqdm(arquivos, desc=\"Carregando arquivos JSON\", unit=\"arquivo\"):\n",
    "        caminho = os.path.join(pasta, arquivo)\n",
    "        try:\n",
    "            with open(caminho, 'r', encoding='utf-8') as f:\n",
    "                data = f.read()  # Lê o conteúdo do arquivo.\n",
    "                corpus.append(data)  # Adiciona o conteúdo ao corpus.\n",
    "                arquivos_validos += 1  # Incrementa o contador de arquivos válidos.\n",
    "                textos_encontrados += len(data.split())  # Conta textos individuais.\n",
    "        except (json.JSONDecodeError, OSError) as erro:\n",
    "            print(f\"Erro ao processar {arquivo}: {erro}\")\n",
    "\n",
    "    return \" \".join(corpus), arquivos_validos, textos_encontrados  # Retorna a tupla."
   ]
  },
  {
   "cell_type": "code",
   "execution_count": 17,
   "id": "993bf99c-1a5c-477c-8c59-dd49a807fe64",
   "metadata": {},
   "outputs": [],
   "source": [
    "# Contar a frequência de pares de tokens consecutivos em uma lista de IDs."
   ]
  },
  {
   "cell_type": "code",
   "execution_count": 19,
   "id": "1ba8fed5-7980-4321-8483-c652764b3a51",
   "metadata": {},
   "outputs": [],
   "source": [
    "def get_most_frequent_pairs(ids):\n",
    "    \"\"\"\n",
    "    Calcula a frequência de pares consecutivos de tokens na lista de IDs.\n",
    "\n",
    "    Parâmetros:\n",
    "    ids : list of list of int\n",
    "        Lista contendo sequências de IDs de tokens.\n",
    "\n",
    "    Retorna:\n",
    "    dict\n",
    "        Dicionário com pares de tokens como chave e suas frequências como valor.\n",
    "    \"\"\"\n",
    "    pairs = defaultdict(int)  # Inicializa um dicionário com valor padrão 0 para cada par.\n",
    "\n",
    "    # Itera sobre cada sequência de IDs na lista.\n",
    "    for id_seq in ids:\n",
    "        # Itera sobre os índices da sequência para formar pares consecutivos.\n",
    "        for i in range(len(id_seq) - 1):\n",
    "            pair = (id_seq[i], id_seq[i + 1])  # Cria um par com dois tokens consecutivos.\n",
    "            pairs[pair] += 1  # Incrementa a contagem do par no dicionário.\n",
    "\n",
    "    return pairs  # Retorna o dicionário de pares e suas frequências."
   ]
  },
  {
   "cell_type": "code",
   "execution_count": 21,
   "id": "d94fce18-2cb6-4f13-a538-10ff96d3ddce",
   "metadata": {},
   "outputs": [],
   "source": [
    "# Função para realizar a mesclagem dos pares mais frequentes."
   ]
  },
  {
   "cell_type": "code",
   "execution_count": 23,
   "id": "2fe89e05-7364-4200-8e25-ac2f63c66f08",
   "metadata": {},
   "outputs": [],
   "source": [
    "# Realizar a mesclagem dos pares de tokens mais frequentes até um máximo de x.\n",
    "def merge_pairs(ids, tokenizar, limite=256):\n",
    "    \"\"\"\n",
    "    Realiza a mesclagem dos pares mais frequentes com base no limite fornecido.\n",
    "\n",
    "    Parâmetros:\n",
    "    ids : list of list of int\n",
    "        Lista de IDs a serem processados.\n",
    "    tokenizar : objeto\n",
    "        Objeto que contém métodos de tokenização.\n",
    "    limite : int, opcional\n",
    "        Limite de pares a serem mesclados (padrão: 20).\n",
    "\n",
    "    Retorna:\n",
    "    list of list of int\n",
    "        Lista de IDs atualizada após as mesclagens.\n",
    "    \"\"\"\n",
    "    # Obtém as estatísticas dos pares de tokens.\n",
    "    status = tokenizar.get_stats(ids)\n",
    "    pares_ordenados = sorted(status.items(), key=lambda x: x[1], reverse=True)[:limite]\n",
    "\n",
    "    global merge_count  # Garante que estamos usando o contador global.\n",
    "\n",
    "    for (a, b), freq in pares_ordenados:\n",
    "        # Obtém os caracteres correspondentes aos IDs.\n",
    "        token_a = tokenizar.vocab.get(a, b'\\x7f').decode('utf-8', errors='replace')\n",
    "        token_b = tokenizar.vocab.get(b, b'\\x7f').decode('utf-8', errors='replace')\n",
    "\n",
    "        # Concatena os tokens para exibir o novo token.\n",
    "        novo_token = f\"{token_a}{token_b}\"\n",
    "\n",
    "        # Exibe o output no formato desejado.\n",
    "        print(f\"Mesclando ({a}, {b}) ({token_a}, {token_b}) em um novo token {merge_count} ({novo_token}) com frequência {freq}\")\n",
    "\n",
    "        # Realiza a mesclagem e incrementa o contador de tokens.\n",
    "        ids = tokenizar.merge(ids, (a, b), merge_count)\n",
    "        merge_count += 1  # Incrementa o contador após a mesclagem.\n",
    "\n",
    "    return ids  # Retorna a lista de IDs atualizada."
   ]
  },
  {
   "cell_type": "code",
   "execution_count": 25,
   "id": "8bbc328f-f08d-49bd-b167-605f0943e0d6",
   "metadata": {},
   "outputs": [],
   "source": [
    "# Carrega e combina todos os textos dos arquivos JSON em uma única string."
   ]
  },
  {
   "cell_type": "code",
   "execution_count": 27,
   "id": "994af1fa-a729-4c63-8f20-6e79e34a6b09",
   "metadata": {},
   "outputs": [
    {
     "name": "stdout",
     "output_type": "stream",
     "text": [
      "Número de arquivos JSON encontrados: 10000\n"
     ]
    },
    {
     "name": "stderr",
     "output_type": "stream",
     "text": [
      "Carregando arquivos JSON: 100%|████████████████████████████████████████████| 10000/10000 [01:02<00:00, 159.21arquivo/s]\n"
     ]
    }
   ],
   "source": [
    "corpus_texto, arquivos_validos, textos_encontrados = carregar_textos_json(pasta_corpus)"
   ]
  },
  {
   "cell_type": "code",
   "execution_count": 28,
   "id": "708dd8b0-ccd8-4c67-ad9b-144f34ab81ad",
   "metadata": {},
   "outputs": [],
   "source": [
    "# Exibe no console os resultados do processamento, fornecendo informações sobre o corpus carregado."
   ]
  },
  {
   "cell_type": "code",
   "execution_count": 29,
   "id": "24a868b0-7dde-41f7-b8f1-dca323123844",
   "metadata": {},
   "outputs": [
    {
     "name": "stdout",
     "output_type": "stream",
     "text": [
      "Número de arquivos JSON válidos lidos: 10000\n",
      "Corpus carregado com 71738184 caracteres.\n",
      "Número de textos individuais: 11555410\n"
     ]
    }
   ],
   "source": [
    "print(f\"Número de arquivos JSON válidos lidos: {arquivos_validos}\")  # Exibe as informações sobre o corpus carregado.\n",
    "print(f\"Corpus carregado com {len(corpus_texto)} caracteres.\")  # Exibe o total de caracteres no corpus carregado.\n",
    "print(f\"Número de textos individuais: {textos_encontrados}\")  # Exibe o número total de textos individuais encontrados."
   ]
  },
  {
   "cell_type": "code",
   "execution_count": 30,
   "id": "d49de72a-e223-4801-85b7-cc53a75e0951",
   "metadata": {},
   "outputs": [],
   "source": [
    "# Treinamento do tokenizador BPE."
   ]
  },
  {
   "cell_type": "code",
   "execution_count": 31,
   "id": "dca9f97a-d5af-4edc-a9de-aec30317d90e",
   "metadata": {},
   "outputs": [
    {
     "name": "stderr",
     "output_type": "stream",
     "text": [
      "Treinamento do tokenizador: 100%|████████████████████████████████████████████| 256/256 [1:17:48<00:00, 18.24s/iteração]\n"
     ]
    },
    {
     "name": "stdout",
     "output_type": "stream",
     "text": [
      "Treinamento do tokenizador BPE concluído!\n"
     ]
    }
   ],
   "source": [
    "tokenizer.train(corpus_texto, vocab_size=512)"
   ]
  },
  {
   "cell_type": "code",
   "execution_count": 32,
   "id": "48fbdac1-6660-4130-8fc2-147ba9cd82a4",
   "metadata": {},
   "outputs": [],
   "source": [
    "# Lista de mesclagem."
   ]
  },
  {
   "cell_type": "code",
   "execution_count": 33,
   "id": "7a20672e-d9ac-4ea2-ab86-f018e10db837",
   "metadata": {},
   "outputs": [
    {
     "name": "stdout",
     "output_type": "stream",
     "text": [
      "Mesclando (111, 32) (o,  ) em um novo token 256 (o ) com frequência 1936188\n",
      "Mesclando (97, 32) (a,  ) em um novo token 257 (a ) com frequência 1768162\n",
      "Mesclando (101, 32) (e,  ) em um novo token 258 (e ) com frequência 1692138\n",
      "Mesclando (115, 32) (s,  ) em um novo token 259 (s ) com frequência 1397165\n",
      "Mesclando (32, 100) ( , d) em um novo token 260 ( d) com frequência 1374945\n",
      "Mesclando (100, 101) (d, e) em um novo token 261 (de) com frequência 1071607\n",
      "Mesclando (32, 101) ( , e) em um novo token 262 ( e) com frequência 831685\n",
      "Mesclando (44, 32) (,,  ) em um novo token 263 (, ) com frequência 799147\n",
      "Mesclando (114, 97) (r, a) em um novo token 264 (ra) com frequência 770498\n",
      "Mesclando (101, 115) (e, s) em um novo token 265 (es) com frequência 769312\n",
      "Mesclando (32, 97) ( , a) em um novo token 266 ( a) com frequência 765729\n",
      "Mesclando (100, 111) (d, o) em um novo token 267 (do) com frequência 737449\n",
      "Mesclando (111, 115) (o, s) em um novo token 268 (os) com frequência 683818\n",
      "Mesclando (32, 112) ( , p) em um novo token 269 ( p) com frequência 658313\n",
      "Mesclando (97, 115) (a, s) em um novo token 270 (as) com frequência 624507\n",
      "Mesclando (101, 110) (e, n) em um novo token 271 (en) com frequência 620654\n",
      "Mesclando (110, 116) (n, t) em um novo token 272 (nt) com frequência 613959\n",
      "Mesclando (116, 101) (t, e) em um novo token 273 (te) com frequência 611882\n",
      "Mesclando (109, 32) (m,  ) em um novo token 274 (m ) com frequência 611864\n",
      "Mesclando (32, 99) ( , c) em um novo token 275 ( c) com frequência 608702\n",
      "Mesclando (111, 114) (o, r) em um novo token 276 (or) com frequência 604356\n",
      "Mesclando (101, 114) (e, r) em um novo token 277 (er) com frequência 600295\n",
      "Mesclando (100, 97) (d, a) em um novo token 278 (da) com frequência 586065\n",
      "Mesclando (99, 111) (c, o) em um novo token 279 (co) com frequência 584583\n",
      "Mesclando (97, 110) (a, n) em um novo token 280 (an) com frequência 567891\n",
      "Mesclando (114, 101) (r, e) em um novo token 281 (re) com frequência 563384\n",
      "Mesclando (97, 114) (a, r) em um novo token 282 (ar) com frequência 542813\n",
      "Mesclando (114, 105) (r, i) em um novo token 283 (ri) com frequência 499452\n",
      "Mesclando (116, 97) (t, a) em um novo token 284 (ta) com frequência 498721\n",
      "Mesclando (97, 100) (a, d) em um novo token 285 (ad) com frequência 486288\n",
      "Mesclando (46, 32) (.,  ) em um novo token 286 (. ) com frequência 471157\n",
      "Mesclando (105, 97) (i, a) em um novo token 287 (ia) com frequência 462100\n",
      "Mesclando (115, 116) (s, t) em um novo token 288 (st) com frequência 433587\n",
      "Mesclando (105, 110) (i, n) em um novo token 289 (in) com frequência 431646\n",
      "Mesclando (32, 111) ( , o) em um novo token 290 ( o) com frequência 420069\n",
      "Mesclando (32, 115) ( , s) em um novo token 291 ( s) com frequência 418794\n",
      "Mesclando (97, 108) (a, l) em um novo token 292 (al) com frequência 415404\n",
      "Mesclando (116, 111) (t, o) em um novo token 293 (to) com frequência 412402\n",
      "Mesclando (109, 97) (m, a) em um novo token 294 (ma) com frequência 412199\n",
      "Mesclando (105, 115) (i, s) em um novo token 295 (is) com frequência 397500\n",
      "Mesclando (101, 109) (e, m) em um novo token 296 (em) com frequência 390152\n",
      "Mesclando (111, 110) (o, n) em um novo token 297 (on) com frequência 389694\n",
      "Mesclando (114, 111) (r, o) em um novo token 298 (ro) com frequência 379866\n",
      "Mesclando (195, 163) (�, �) em um novo token 299 (��) com frequência 379760\n",
      "Mesclando (115, 101) (s, e) em um novo token 300 (se) com frequência 375615\n",
      "Mesclando (99, 97) (c, a) em um novo token 301 (ca) com frequência 372326\n",
      "Mesclando (110, 97) (n, a) em um novo token 302 (na) com frequência 365943\n",
      "Mesclando (163, 111) (�, o) em um novo token 303 (�o) com frequência 364054\n",
      "Mesclando (114, 32) (r,  ) em um novo token 304 (r ) com frequência 349517\n",
      "Mesclando (109, 101) (m, e) em um novo token 305 (me) com frequência 345579\n",
      "Mesclando (105, 99) (i, c) em um novo token 306 (ic) com frequência 342094\n",
      "Mesclando (32, 109) ( , m) em um novo token 307 ( m) com frequência 332172\n",
      "Mesclando (116, 105) (t, i) em um novo token 308 (ti) com frequência 324962\n",
      "Mesclando (111, 109) (o, m) em um novo token 309 (om) com frequência 319428\n",
      "Mesclando (99, 105) (c, i) em um novo token 310 (ci) com frequência 315350\n",
      "Mesclando (110, 100) (n, d) em um novo token 311 (nd) com frequência 311091\n",
      "Mesclando (195, 167) (�, �) em um novo token 312 (��) com frequência 310186\n",
      "Mesclando (112, 111) (p, o) em um novo token 313 (po) com frequência 305209\n",
      "Mesclando (32, 110) ( , n) em um novo token 314 ( n) com frequência 303265\n",
      "Mesclando (105, 111) (i, o) em um novo token 315 (io) com frequência 299615\n",
      "Mesclando (110, 111) (n, o) em um novo token 316 (no) com frequência 299452\n",
      "Mesclando (97, 109) (a, m) em um novo token 317 (am) com frequência 296386\n",
      "Mesclando (105, 100) (i, d) em um novo token 318 (id) com frequência 292167\n",
      "Mesclando (113, 117) (q, u) em um novo token 319 (qu) com frequência 290453\n",
      "Mesclando (116, 114) (t, r) em um novo token 320 (tr) com frequência 287636\n",
      "Mesclando (32, 116) ( , t) em um novo token 321 ( t) com frequência 275046\n",
      "Mesclando (32, 102) ( , f) em um novo token 322 ( f) com frequência 271750\n",
      "Mesclando (101, 108) (e, l) em um novo token 323 (el) com frequência 266982\n",
      "Mesclando (112, 97) (p, a) em um novo token 324 (pa) com frequência 263011\n",
      "Mesclando (97, 116) (a, t) em um novo token 325 (at) com frequência 262973\n",
      "Mesclando (195, 169) (�, �) em um novo token 326 (��) com frequência 258236\n",
      "Mesclando (108, 97) (l, a) em um novo token 327 (la) com frequência 256100\n",
      "Mesclando (105, 116) (i, t) em um novo token 328 (it) com frequência 253066\n",
      "Mesclando (117, 101) (u, e) em um novo token 329 (ue) com frequência 249775\n",
      "Mesclando (108, 105) (l, i) em um novo token 330 (li) com frequência 245261\n",
      "Mesclando (32, 49) ( , 1) em um novo token 331 ( 1) com frequência 237000\n",
      "Mesclando (117, 109) (u, m) em um novo token 332 (um) com frequência 228918\n",
      "Mesclando (167, 195) (�, �) em um novo token 333 (��) com frequência 226000\n",
      "Mesclando (112, 101) (p, e) em um novo token 334 (pe) com frequência 225538\n",
      "Mesclando (32, 67) ( , C) em um novo token 335 ( C) com frequência 225179\n",
      "Mesclando (101, 105) (e, i) em um novo token 336 (ei) com frequência 225124\n",
      "Mesclando (32, 65) ( , A) em um novo token 337 ( A) com frequência 223879\n",
      "Mesclando (112, 114) (p, r) em um novo token 338 (pr) com frequência 220497\n",
      "Mesclando (100, 105) (d, i) em um novo token 339 (di) com frequência 216906\n",
      "Mesclando (108, 101) (l, e) em um novo token 340 (le) com frequência 210519\n",
      "Mesclando (108, 111) (l, o) em um novo token 341 (lo) com frequência 210009\n",
      "Mesclando (108, 32) (l,  ) em um novo token 342 (l ) com frequência 209655\n",
      "Mesclando (105, 114) (i, r) em um novo token 343 (ir) com frequência 207571\n",
      "Mesclando (115, 105) (s, i) em um novo token 344 (si) com frequência 206685\n",
      "Mesclando (32, 124) ( , |) em um novo token 345 ( |) com frequência 205444\n",
      "Mesclando (195, 173) (�, �) em um novo token 346 (��) com frequência 200912\n",
      "Mesclando (110, 105) (n, i) em um novo token 347 (ni) com frequência 200134\n",
      "Mesclando (32, 114) ( , r) em um novo token 348 ( r) com frequência 198426\n",
      "Mesclando (32, 117) ( , u) em um novo token 349 ( u) com frequência 198212\n",
      "Mesclando (32, 113) ( , q) em um novo token 350 ( q) com frequência 192373\n",
      "Mesclando (109, 111) (m, o) em um novo token 351 (mo) com frequência 192026\n",
      "Mesclando (115, 115) (s, s) em um novo token 352 (ss) com frequência 192022\n",
      "Mesclando (118, 101) (v, e) em um novo token 353 (ve) com frequência 191920\n",
      "Mesclando (195, 161) (�, �) em um novo token 354 (��) com frequência 190245\n",
      "Mesclando (111, 108) (o, l) em um novo token 355 (ol) com frequência 187721\n",
      "Mesclando (97, 195) (a, �) em um novo token 356 (a�) com frequência 187693\n",
      "Mesclando (97, 105) (a, i) em um novo token 357 (ai) com frequência 186084\n",
      "Mesclando (117, 32) (u,  ) em um novo token 358 (u ) com frequência 182051\n",
      "Mesclando (105, 109) (i, m) em um novo token 359 (im) com frequência 181029\n",
      "Mesclando (124, 32) (|,  ) em um novo token 360 (| ) com frequência 179337\n",
      "Mesclando (32, 83) ( , S) em um novo token 361 ( S) com frequência 179279\n",
      "Mesclando (61, 61) (=, =) em um novo token 362 (==) com frequência 179132\n",
      "Mesclando (32, 105) ( , i) em um novo token 363 ( i) com frequência 179044\n",
      "Mesclando (111, 117) (o, u) em um novo token 364 (ou) com frequência 177175\n",
      "Mesclando (114, 116) (r, t) em um novo token 365 (rt) com frequência 173922\n",
      "Mesclando (32, 80) ( , P) em um novo token 366 ( P) com frequência 173897\n",
      "Mesclando (110, 99) (n, c) em um novo token 367 (nc) com frequência 169729\n",
      "Mesclando (117, 97) (u, a) em um novo token 368 (ua) com frequência 169582\n",
      "Mesclando (32, 195) ( , �) em um novo token 369 ( �) com frequência 169282\n",
      "Mesclando (105, 108) (i, l) em um novo token 370 (il) com frequência 164415\n",
      "Mesclando (115, 111) (s, o) em um novo token 371 (so) com frequência 163329\n",
      "Mesclando (99, 101) (c, e) em um novo token 372 (ce) com frequência 156452\n",
      "Mesclando (115, 97) (s, a) em um novo token 373 (sa) com frequência 155599\n",
      "Mesclando (32, 61) ( , =) em um novo token 374 ( =) com frequência 152644\n",
      "Mesclando (110, 115) (n, s) em um novo token 375 (ns) com frequência 152377\n",
      "Mesclando (61, 32) (=,  ) em um novo token 376 (= ) com frequência 151929\n",
      "Mesclando (116, 195) (t, �) em um novo token 377 (t�) com frequência 151922\n",
      "Mesclando (32, 42) ( , *) em um novo token 378 ( *) com frequência 150566\n",
      "Mesclando (32, 77) ( , M) em um novo token 379 ( M) com frequência 149114\n",
      "Mesclando (115, 44) (s, ,) em um novo token 380 (s,) com frequência 147058\n",
      "Mesclando (111, 44) (o, ,) em um novo token 381 (o,) com frequência 146860\n",
      "Mesclando (117, 114) (u, r) em um novo token 382 (ur) com frequência 146838\n",
      "Mesclando (117, 110) (u, n) em um novo token 383 (un) com frequência 146533\n",
      "Mesclando (117, 108) (u, l) em um novo token 384 (ul) com frequência 145586\n",
      "Mesclando (32, 69) ( , E) em um novo token 385 ( E) com frequência 145520\n",
      "Mesclando (101, 103) (e, g) em um novo token 386 (eg) com frequência 144623\n",
      "Mesclando (118, 97) (v, a) em um novo token 387 (va) com frequência 143611\n",
      "Mesclando (101, 99) (e, c) em um novo token 388 (ec) com frequência 143229\n",
      "Mesclando (49, 57) (1, 9) em um novo token 389 (19) com frequência 141574\n",
      "Mesclando (118, 105) (v, i) em um novo token 390 (vi) com frequência 141088\n",
      "Mesclando (32, 50) ( , 2) em um novo token 391 ( 2) com frequência 138758\n",
      "Mesclando (32, 40) ( , () em um novo token 392 ( () com frequência 138509\n",
      "Mesclando (101, 116) (e, t) em um novo token 393 (et) com frequência 138166\n",
      "Mesclando (116, 117) (t, u) em um novo token 394 (tu) com frequência 136790\n",
      "Mesclando (109, 105) (m, i) em um novo token 395 (mi) com frequência 136688\n",
      "Mesclando (97, 44) (a, ,) em um novo token 396 (a,) com frequência 133803\n",
      "Mesclando (102, 111) (f, o) em um novo token 397 (fo) com frequência 133553\n",
      "Mesclando (104, 97) (h, a) em um novo token 398 (ha) com frequência 129912\n",
      "Mesclando (110, 195) (n, �) em um novo token 399 (n�) com frequência 129790\n",
      "Mesclando (32, 118) ( , v) em um novo token 400 ( v) com frequência 125532\n",
      "Mesclando (32, 108) ( , l) em um novo token 401 ( l) com frequência 125383\n",
      "Mesclando (114, 195) (r, �) em um novo token 402 (r�) com frequência 123940\n",
      "Mesclando (109, 112) (m, p) em um novo token 403 (mp) com frequência 121829\n",
      "Mesclando (110, 101) (n, e) em um novo token 404 (ne) com frequência 121677\n",
      "Mesclando (97, 99) (a, c) em um novo token 405 (ac) com frequência 120628\n",
      "Mesclando (42, 32) (*,  ) em um novo token 406 (* ) com frequência 120472\n",
      "Mesclando (124, 124) (|, |) em um novo token 407 (||) com frequência 120117\n",
      "Mesclando (195, 179) (�, �) em um novo token 408 (��) com frequência 118283\n",
      "Mesclando (102, 105) (f, i) em um novo token 409 (fi) com frequência 116054\n",
      "Mesclando (103, 117) (g, u) em um novo token 410 (gu) com frequência 115682\n",
      "Mesclando (105, 118) (i, v) em um novo token 411 (iv) com frequência 115490\n",
      "Mesclando (32, 66) ( , B) em um novo token 412 ( B) com frequência 113475\n",
      "Mesclando (115, 117) (s, u) em um novo token 413 (su) com frequência 113106\n",
      "Mesclando (50, 48) (2, 0) em um novo token 414 (20) com frequência 111081\n",
      "Mesclando (114, 114) (r, r) em um novo token 415 (rr) com frequência 110449\n",
      "Mesclando (103, 111) (g, o) em um novo token 416 (go) com frequência 110228\n",
      "Mesclando (117, 105) (u, i) em um novo token 417 (ui) com frequência 109421\n",
      "Mesclando (32, 98) ( , b) em um novo token 418 ( b) com frequência 109263\n",
      "Mesclando (111, 99) (o, c) em um novo token 419 (oc) com frequência 108887\n",
      "Mesclando (115, 195) (s, �) em um novo token 420 (s�) com frequência 106426\n",
      "Mesclando (117, 116) (u, t) em um novo token 421 (ut) com frequência 105143\n",
      "Mesclando (103, 97) (g, a) em um novo token 422 (ga) com frequência 104962\n",
      "Mesclando (105, 32) (i,  ) em um novo token 423 (i ) com frequência 104534\n",
      "Mesclando (117, 115) (u, s) em um novo token 424 (us) com frequência 104253\n",
      "Mesclando (32, 79) ( , O) em um novo token 425 ( O) com frequência 101204\n",
      "Mesclando (104, 111) (h, o) em um novo token 426 (ho) com frequência 101094\n",
      "Mesclando (92, 34) (\\, \") em um novo token 427 (\\\") com frequência 100398\n",
      "Mesclando (98, 114) (b, r) em um novo token 428 (br) com frequência 99072\n",
      "Mesclando (110, 104) (n, h) em um novo token 429 (nh) com frequência 97672\n",
      "Mesclando (111, 100) (o, d) em um novo token 430 (od) com frequência 95723\n",
      "Mesclando (111, 105) (o, i) em um novo token 431 (oi) com frequência 95218\n",
      "Mesclando (97, 112) (a, p) em um novo token 432 (ap) com frequência 95128\n",
      "Mesclando (32, 82) ( , R) em um novo token 433 ( R) com frequência 94498\n",
      "Mesclando (105, 195) (i, �) em um novo token 434 (i�) com frequência 94429\n",
      "Mesclando (115, 46) (s, .) em um novo token 435 (s.) com frequência 93995\n",
      "Mesclando (105, 103) (i, g) em um novo token 436 (ig) com frequência 92728\n",
      "Mesclando (101, 100) (e, d) em um novo token 437 (ed) com frequência 91986\n",
      "Mesclando (169, 32) (�,  ) em um novo token 438 (� ) com frequência 91719\n",
      "Mesclando (32, 76) ( , L) em um novo token 439 ( L) com frequência 91316\n",
      "Mesclando (103, 114) (g, r) em um novo token 440 (gr) com frequência 91160\n",
      "Mesclando (32, 68) ( , D) em um novo token 441 ( D) com frequência 91030\n",
      "Mesclando (67, 97) (C, a) em um novo token 442 (Ca) com frequência 90042\n",
      "Mesclando (98, 97) (b, a) em um novo token 443 (ba) com frequência 89440\n",
      "Mesclando (58, 32) (:,  ) em um novo token 444 (: ) com frequência 89310\n",
      "Mesclando (32, 70) ( , F) em um novo token 445 ( F) com frequência 89206\n",
      "Mesclando (32, 78) ( , N) em um novo token 446 ( N) com frequência 88564\n",
      "Mesclando (32, 103) ( , g) em um novo token 447 ( g) com frequência 88559\n",
      "Mesclando (103, 105) (g, i) em um novo token 448 (gi) com frequência 88517\n",
      "Mesclando (32, 84) ( , T) em um novo token 449 ( T) com frequência 88116\n",
      "Mesclando (109, 98) (m, b) em um novo token 450 (mb) com frequência 88094\n",
      "Mesclando (111, 118) (o, v) em um novo token 451 (ov) com frequência 87578\n",
      "Mesclando (101, 117) (e, u) em um novo token 452 (eu) com frequência 87205\n",
      "Mesclando (118, 111) (v, o) em um novo token 453 (vo) com frequência 86398\n",
      "Mesclando (114, 109) (r, m) em um novo token 454 (rm) com frequência 86348\n",
      "Mesclando (103, 101) (g, e) em um novo token 455 (ge) com frequência 85793\n",
      "Mesclando (97, 118) (a, v) em um novo token 456 (av) com frequência 85724\n",
      "Mesclando (101, 120) (e, x) em um novo token 457 (ex) com frequência 85255\n",
      "Mesclando (104, 101) (h, e) em um novo token 458 (he) com frequência 84349\n",
      "Mesclando (115, 99) (s, c) em um novo token 459 (sc) com frequência 84281\n",
      "Mesclando (108, 104) (l, h) em um novo token 460 (lh) com frequência 84088\n",
      "Mesclando (32, 73) ( , I) em um novo token 461 ( I) com frequência 82614\n",
      "Mesclando (110, 103) (n, g) em um novo token 462 (ng) com frequência 81606\n",
      "Mesclando (48, 48) (0, 0) em um novo token 463 (00) com frequência 80280\n",
      "Mesclando (99, 117) (c, u) em um novo token 464 (cu) com frequência 79358\n",
      "Mesclando (32, 71) ( , G) em um novo token 465 ( G) com frequência 78341\n",
      "Mesclando (110, 32) (n,  ) em um novo token 466 (n ) com frequência 78225\n",
      "Mesclando (97, 98) (a, b) em um novo token 467 (ab) com frequência 78222\n",
      "Mesclando (195, 170) (�, �) em um novo token 468 (��) com frequência 77375\n",
      "Mesclando (111, 46) (o, .) em um novo token 469 (o.) com frequência 77007\n",
      "Mesclando (108, 195) (l, �) em um novo token 470 (l�) com frequência 76231\n",
      "Mesclando (102, 101) (f, e) em um novo token 471 (fe) com frequência 76134\n",
      "Mesclando (109, 117) (m, u) em um novo token 472 (mu) com frequência 75210\n",
      "Mesclando (101, 97) (e, a) em um novo token 473 (ea) com frequência 74426\n",
      "Mesclando (114, 110) (r, n) em um novo token 474 (rn) com frequência 74289\n",
      "Mesclando (97, 103) (a, g) em um novo token 475 (ag) com frequência 73893\n",
      "Mesclando (97, 46) (a, .) em um novo token 476 (a.) com frequência 73626\n",
      "Mesclando (48, 32) (0,  ) em um novo token 477 (0 ) com frequência 73045\n",
      "Mesclando (112, 105) (p, i) em um novo token 478 (pi) com frequência 72653\n",
      "Mesclando (101, 118) (e, v) em um novo token 479 (ev) com frequência 72632\n",
      "Mesclando (111, 112) (o, p) em um novo token 480 (op) com frequência 72512\n",
      "Mesclando (101, 44) (e, ,) em um novo token 481 (e,) com frequência 72402\n",
      "Mesclando (195, 181) (�, �) em um novo token 482 (��) com frequência 72129\n",
      "Mesclando (181, 101) (�, e) em um novo token 483 (�e) com frequência 71901\n",
      "Mesclando (115, 112) (s, p) em um novo token 484 (sp) com frequência 71286\n",
      "Mesclando (41, 32) (),  ) em um novo token 485 () ) com frequência 71068\n",
      "Mesclando (32, 104) ( , h) em um novo token 486 ( h) com frequência 68980\n",
      "Mesclando (226, 128) (�, �) em um novo token 487 (��) com frequência 68864\n",
      "Mesclando (99, 114) (c, r) em um novo token 488 (cr) com frequência 67798\n",
      "Mesclando (99, 104) (c, h) em um novo token 489 (ch) com frequência 67650\n",
      "Mesclando (65, 32) (A,  ) em um novo token 490 (A ) com frequência 67231\n",
      "Mesclando (67, 111) (C, o) em um novo token 491 (Co) com frequência 66983\n",
      "Mesclando (109, 195) (m, �) em um novo token 492 (m�) com frequência 66790\n",
      "Mesclando (98, 101) (b, e) em um novo token 493 (be) com frequência 66472\n",
      "Mesclando (100, 117) (d, u) em um novo token 494 (du) com frequência 65284\n",
      "Mesclando (105, 122) (i, z) em um novo token 495 (iz) com frequência 63917\n",
      "Mesclando (105, 101) (i, e) em um novo token 496 (ie) com frequência 63549\n",
      "Mesclando (111, 98) (o, b) em um novo token 497 (ob) com frequência 63492\n",
      "Mesclando (161, 114) (�, r) em um novo token 498 (�r) com frequência 63314\n",
      "Mesclando (114, 100) (r, d) em um novo token 499 (rd) com frequência 62410\n",
      "Mesclando (111, 116) (o, t) em um novo token 500 (ot) com frequência 61211\n",
      "Mesclando (32, 74) ( , J) em um novo token 501 ( J) com frequência 60575\n",
      "Mesclando (32, 34) ( , \") em um novo token 502 ( \") com frequência 60000\n",
      "Mesclando (77, 97) (M, a) em um novo token 503 (Ma) com frequência 59777\n",
      "Mesclando (111, 103) (o, g) em um novo token 504 (og) com frequência 59686\n",
      "Mesclando (108, 116) (l, t) em um novo token 505 (lt) com frequência 59555\n",
      "Mesclando (108, 117) (l, u) em um novo token 506 (lu) com frequência 58943\n",
      "Mesclando (122, 97) (z, a) em um novo token 507 (za) com frequência 58629\n",
      "Mesclando (49, 32) (1,  ) em um novo token 508 (1 ) com frequência 58437\n",
      "Mesclando (195, 186) (�, �) em um novo token 509 (��) com frequência 58250\n",
      "Mesclando (114, 99) (r, c) em um novo token 510 (rc) com frequência 57763\n",
      "Mesclando (114, 117) (r, u) em um novo token 511 (ru) com frequência 57610\n"
     ]
    }
   ],
   "source": [
    "merge_count = 256  # Inicializa um contador para os novos tokens.\n",
    "ids = list(corpus_texto.encode(\"utf-8\"))  # Converte o corpus para uma lista de IDs.\n",
    "ids = merge_pairs(ids, tokenizer)  # Realiza a mesclagem dos 20 pares mais frequentes (conforme definido)."
   ]
  },
  {
   "cell_type": "code",
   "execution_count": 34,
   "id": "84f23ae5-e6fd-42f1-9745-b3a42ec55d7e",
   "metadata": {},
   "outputs": [],
   "source": [
    "# Exibe estatísticas finais."
   ]
  },
  {
   "cell_type": "code",
   "execution_count": 35,
   "id": "d39dcf20-b476-405f-8261-be9464d61cd1",
   "metadata": {},
   "outputs": [
    {
     "name": "stdout",
     "output_type": "stream",
     "text": [
      "\n",
      "Comprimento final dos tokens: 71738184\n",
      "Comprimento final dos IDs: 45218409\n"
     ]
    }
   ],
   "source": [
    "print(f\"\\nComprimento final dos tokens: {len(corpus_texto)}\")  # Calcula o número total de caracteres presentes no corpus original após o processo de tokenização.\n",
    "print(f\"Comprimento final dos IDs: {len(ids)}\")  # Exibe a quantidade de IDs (tokens únicos) gerados após a aplicação do tokenizador."
   ]
  },
  {
   "cell_type": "code",
   "execution_count": 36,
   "id": "c90277b5-b5cf-4486-9794-0d7e1f95144d",
   "metadata": {},
   "outputs": [],
   "source": [
    "# Calcula e exibe a taxa de compressão."
   ]
  },
  {
   "cell_type": "code",
   "execution_count": 47,
   "id": "b3dc7063-78a2-4f88-970b-caf2c402225c",
   "metadata": {},
   "outputs": [
    {
     "name": "stdout",
     "output_type": "stream",
     "text": [
      "Taxa de compressão: 1.59X\n"
     ]
    }
   ],
   "source": [
    "taxa_compressao = len(corpus_texto) / len(ids)  # Divide o comprimento do texto original pelo número de IDs para indicar a eficiência da tokenização.\n",
    "print(f\"Taxa de compressão: {taxa_compressao:.2f}X\")  # Formata a saída para exibir a taxa com duas casas decimais"
   ]
  }
 ],
 "metadata": {
  "kernelspec": {
   "display_name": "Python 3 (ipykernel)",
   "language": "python",
   "name": "python3"
  },
  "language_info": {
   "codemirror_mode": {
    "name": "ipython",
    "version": 3
   },
   "file_extension": ".py",
   "mimetype": "text/x-python",
   "name": "python",
   "nbconvert_exporter": "python",
   "pygments_lexer": "ipython3",
   "version": "3.12.4"
  }
 },
 "nbformat": 4,
 "nbformat_minor": 5
}
