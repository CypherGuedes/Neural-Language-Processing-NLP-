{
 "cells": [
  {
   "cell_type": "code",
   "execution_count": 1,
   "id": "208187f9-1e6c-48be-8f87-d52dae7b9929",
   "metadata": {},
   "outputs": [],
   "source": [
    "# Importações necessárias"
   ]
  },
  {
   "cell_type": "code",
   "execution_count": 3,
   "id": "923683b5-05c0-49f6-8ced-ed3dd5c74a10",
   "metadata": {},
   "outputs": [
    {
     "name": "stderr",
     "output_type": "stream",
     "text": [
      "[nltk_data] Downloading package punkt to\n",
      "[nltk_data]     C:\\Users\\tagsa\\AppData\\Roaming\\nltk_data...\n",
      "[nltk_data]   Package punkt is already up-to-date!\n"
     ]
    }
   ],
   "source": [
    "import tiktoken\n",
    "import torch\n",
    "import nltk\n",
    "nltk.download('punkt')\n",
    "import sys\n",
    "sys.path.append(r\"C:\\Users\\tagsa\\Downloads\")  # Adicione o caminho onde o arquivo bigram_model.py está\n",
    "from bigram_model import BigramModel  # Importa o modelo de bigrama do arquivo .py"
   ]
  },
  {
   "cell_type": "code",
   "execution_count": 5,
   "id": "d271d8e5-5611-40e1-b3b9-e10e2ec019b7",
   "metadata": {},
   "outputs": [],
   "source": [
    "# Configuração do tokenizador e inicialização do modelo\n",
    "tokenizer = tiktoken.get_encoding(\"gpt2\")\n",
    "model = BigramModel(tokenizer)"
   ]
  },
  {
   "cell_type": "code",
   "execution_count": 7,
   "id": "b1f21221-4d2d-435c-b065-dd16510faf89",
   "metadata": {},
   "outputs": [],
   "source": [
    "# Carregar e preparar os dados\n",
    "with open(\"C:/Users/tagsa/Downloads/Hino_Nacional.txt\", \"r\", encoding=\"utf-8\") as file:\n",
    "    text = file.read()"
   ]
  },
  {
   "cell_type": "code",
   "execution_count": 9,
   "id": "a4e49f09-c9e2-497b-a5eb-8e9466f0b668",
   "metadata": {},
   "outputs": [],
   "source": [
    "# Prepara os dados para treino e teste\n",
    "train_tokens, test_tokens = model.prepare_data(text)"
   ]
  },
  {
   "cell_type": "code",
   "execution_count": 11,
   "id": "05f06c54-01ed-43f1-8128-35293fbcbb25",
   "metadata": {},
   "outputs": [
    {
     "name": "stdout",
     "output_type": "stream",
     "text": [
      "Modelo treinado com sucesso!\n"
     ]
    }
   ],
   "source": [
    "# Treinamento do modelo\n",
    "model.train(train_tokens)\n",
    "print(\"Modelo treinado com sucesso!\")"
   ]
  },
  {
   "cell_type": "code",
   "execution_count": 13,
   "id": "7cb97ffe-5421-4de4-9872-c8640d774d82",
   "metadata": {},
   "outputs": [
    {
     "name": "stdout",
     "output_type": "stream",
     "text": [
      "Perplexidade no conjunto de teste: 2091358073.1433494\n"
     ]
    }
   ],
   "source": [
    "# Cálculo da perplexidade\n",
    "perplexity = model.calculate_perplexity(test_tokens)\n",
    "print(f\"Perplexidade no conjunto de teste: {perplexity}\")"
   ]
  },
  {
   "cell_type": "code",
   "execution_count": 15,
   "id": "e769e57c-c84f-4d8a-b3c8-055b17afcafd",
   "metadata": {},
   "outputs": [
    {
     "name": "stdout",
     "output_type": "stream",
     "text": [
      "Texto gerado pelo modelo de bigrama:\n",
      " < Bras eí amstart,,,,,,,,,,,,,,\n"
     ]
    }
   ],
   "source": [
    "# Geração de texto com o modelo\n",
    "generated_text = model.generate_text(length=20)\n",
    "print(\"Texto gerado pelo modelo de bigrama:\\n\", generated_text)"
   ]
  },
  {
   "cell_type": "code",
   "execution_count": null,
   "id": "ed617e9c-4d78-4402-b933-fb6542177e4d",
   "metadata": {},
   "outputs": [],
   "source": []
  }
 ],
 "metadata": {
  "kernelspec": {
   "display_name": "Python 3 (ipykernel)",
   "language": "python",
   "name": "python3"
  },
  "language_info": {
   "codemirror_mode": {
    "name": "ipython",
    "version": 3
   },
   "file_extension": ".py",
   "mimetype": "text/x-python",
   "name": "python",
   "nbconvert_exporter": "python",
   "pygments_lexer": "ipython3",
   "version": "3.12.4"
  }
 },
 "nbformat": 4,
 "nbformat_minor": 5
}
